{
 "cells": [
  {
   "cell_type": "markdown",
   "id": "a35f2c02-0ce5-43db-8902-2d843f370191",
   "metadata": {},
   "source": [
    "# Data Science Tools and Ecosystems"
   ]
  },
  {
   "cell_type": "markdown",
   "id": "bf7ae70a-7459-4c05-9026-a1bf1ffc701e",
   "metadata": {},
   "source": [
    "## In this Notebook,Data Science Tools and Ecosystems are summerised"
   ]
  },
  {
   "cell_type": "markdown",
   "id": "6fc27851-c976-4830-afef-54c7c7d69951",
   "metadata": {},
   "source": [
    "# Some of this widely used programming languages are in Data Science are\n",
    "### 1.Python\n",
    "### 2.R\n",
    "### 3.SQL\n",
    "### 4.JAVA"
   ]
  },
  {
   "cell_type": "markdown",
   "id": "7ecdc250-0b53-47f1-9312-da11ced636cb",
   "metadata": {},
   "source": [
    "# Some of the Commonly used Libraries in Data Science are\n",
    "### 1.Numpy\n",
    "### 2.Pandas\n",
    "### 3.Matplotlib\n",
    "### 4.Seaborn\n",
    "### 5.sklearn"
   ]
  },
  {
   "cell_type": "markdown",
   "id": "0a3d9084-1725-47b1-87f6-0e4cdaa079d1",
   "metadata": {},
   "source": [
    "# Some of commonly used tools in Data science are:\n",
    "### Jupyter Notebook\n",
    "### google collab\n",
    "### Rstudio\n",
    "### Aparche Zeppelin"
   ]
  },
  {
   "cell_type": "markdown",
   "id": "7200f39a-11c3-47aa-90fa-8e52ae82d29a",
   "metadata": {},
   "source": [
    "# Below are a few examples of evaluating arithmetic expressions in Python."
   ]
  },
  {
   "cell_type": "code",
   "execution_count": 1,
   "id": "a3138827-bfdd-49c6-babd-224d9cd1ef17",
   "metadata": {},
   "outputs": [
    {
     "data": {
      "text/plain": [
       "17"
      ]
     },
     "execution_count": 1,
     "metadata": {},
     "output_type": "execute_result"
    }
   ],
   "source": [
    "# This is a simple arithmetic expression to multiply then add integers\n",
    "(3 * 4) + 5"
   ]
  },
  {
   "cell_type": "code",
   "execution_count": 2,
   "id": "c0d9c3ca-21c4-4c95-8c18-f8de495c9a23",
   "metadata": {},
   "outputs": [
    {
     "data": {
      "text/plain": [
       "3.3333333333333335"
      ]
     },
     "execution_count": 2,
     "metadata": {},
     "output_type": "execute_result"
    }
   ],
   "source": [
    "# This will convert 200 minutes to hours by dividing by 60\n",
    "200 / 60"
   ]
  },
  {
   "cell_type": "markdown",
   "id": "16df4475-eba0-4e05-87f9-9e8e41914ee9",
   "metadata": {},
   "source": [
    "# Objectives\n",
    "\n",
    "### List popular languages for Data Science  \n",
    "### Identify common Data Science tools  \n",
    "### Perform basic arithmetic expressions using Python  \n",
    "### Convert data units such as minutes to hours  \n",
    "### Share Jupyter Notebooks via GitHub  \n"
   ]
  },
  {
   "cell_type": "markdown",
   "id": "6ed250a0-0ef1-409b-915e-6d370dcfb9bd",
   "metadata": {},
   "source": [
    "# Author\n",
    "## Varun Kumar Reddy Teneti\n"
   ]
  },
  {
   "cell_type": "code",
   "execution_count": null,
   "id": "120438be-7dfc-420e-bf06-25889ef3f5d2",
   "metadata": {},
   "outputs": [],
   "source": []
  }
 ],
 "metadata": {
  "kernelspec": {
   "display_name": "Python [conda env:base] *",
   "language": "python",
   "name": "conda-base-py"
  },
  "language_info": {
   "codemirror_mode": {
    "name": "ipython",
    "version": 3
   },
   "file_extension": ".py",
   "mimetype": "text/x-python",
   "name": "python",
   "nbconvert_exporter": "python",
   "pygments_lexer": "ipython3",
   "version": "3.13.5"
  }
 },
 "nbformat": 4,
 "nbformat_minor": 5
}
